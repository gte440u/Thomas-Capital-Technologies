{
 "cells": [
  {
   "cell_type": "code",
   "execution_count": 2,
   "id": "123e8977-e0fa-4f81-846a-79f761f09f0e",
   "metadata": {},
   "outputs": [],
   "source": [
    "#=================================================================\n",
    "# SentimentAnalysisLSTMNotebook.ipynb\n",
    "#=================================================================\n",
    "#\n",
    "# This notebook is an example execution of SentimentAnalysisLSTM; \n",
    "# a module to train an LSTM Model for Sentiment Analysis on the \n",
    "# IMDB dataset using PyTorch. The module performs the following: \n",
    "#   -Accesses the IMDB dataset \n",
    "#   -Builds an LSTM (Long Short-Term Memory) Model\n",
    "#   -Trains the model for text sentiment analysis using the \n",
    "#    dataset\n",
    "#   -Classifies input text as either positive or negative\n",
    "#\n",
    "# Inputs:   -User-defined model parameters\n",
    "#           -IMDBDataset, .csv file with review and \n",
    "#            sentiment columns\n",
    "#\n",
    "# Outputs:  -Trained model that can classify sentiment as \n",
    "#            positive or negative\n",
    "#\n",
    "# To Run:   To train a new model:\n",
    "#             >>import MikesLibrary.SentimentAnalysisLSTM as SA\n",
    "#             >>myTrainDL, myValidDL, myVocab = SA.processData()\n",
    "#             >>myModel = SA.buildModel(myVocab)\n",
    "#             >>epochs = <num_epochs_to_train_for>\n",
    "#             >>myTrainedModel = SA.trainModel(myModel, myTrainDL, myValidDL, epochs)\n",
    "#           To load a saved model:\n",
    "#             >>import MikesLibrary.SentimentAnalysisLSTM as SA\n",
    "#             >>stateDictPath = <path_to_state_dict>\n",
    "#             >>vocabDictPath = <path_to_vocab_dict>\n",
    "#             >>myLoadedModel = SA.loadModel(stateDictPath, vocabDictPath)\n",
    "#           To perform inference:\n",
    "#             >>inText = \"Some positive or negative text string\"\n",
    "#             >>myLoadedModel.predict_sentiment(inText)\n",
    "#\n",
    "# Author:   Mike Thomas, June 2022\n",
    "#\n",
    "#=================================================================\n",
    "\n",
    "#------------------------------------\n",
    "# 3rd Pary Imports aka dependencies\n",
    "#------------------------------------\n",
    "import MikesLibrary.SentimentAnalysisLSTM as SA                                             #Access user-defined class for building LSTM models"
   ]
  },
  {
   "cell_type": "code",
   "execution_count": 2,
   "id": "08d2a3dc-d2af-485a-8912-0ecb18ab1506",
   "metadata": {},
   "outputs": [],
   "source": [
    "#------------------------------------\n",
    "# Train a New LSTM Model\n",
    "#------------------------------------\n",
    "#\n",
    "# Model parameters can be adjusted\n",
    "# within SentimentAnalysisLSTM\n",
    "#\n",
    "# Note: This step takes a loooong\n",
    "# time...\n",
    "#\n",
    "#------------------------------------\n",
    "myTrainDL, myValidDL, myVocab = SA.processData()\n",
    "myModel = SA.buildModel(myVocab)\n",
    "epochs = 5\n",
    "myTrainedModel = SA.trainModel(myModel, myTrainDL, myValidDL, epochs)"
   ]
  },
  {
   "cell_type": "code",
   "execution_count": 15,
   "id": "6c0800c8-72d9-4d99-baf3-6afcc1413966",
   "metadata": {},
   "outputs": [],
   "source": [
    "#------------------------------------\n",
    "# Load a Saved LSTM Model\n",
    "#------------------------------------\n",
    "stateDictPath = r\"C:\\Users\\micha\\miniconda3\\envs\\NeuralNetwork\\MikesLibrary\\2023_05_14_1808_SentimentAnalysisLSTM_modelStateDict.pt\"      #path to state dict; saved previously from a model during training\n",
    "vocabDictPath = r\"C:\\Users\\micha\\miniconda3\\envs\\NeuralNetwork\\MikesLibrary\\2023_05_14_1808_SentimentAnalysisLSTM_vocab.pkl\"              #path to vocab dict; saved previously from a model during training\n",
    "myLoadedModel = SA.loadModel(stateDictPath, vocabDictPath)                                                                                #load model state and vocabulary dictionaries"
   ]
  },
  {
   "cell_type": "code",
   "execution_count": 14,
   "id": "39313158-032e-4ddf-a048-d50b8fccf2e0",
   "metadata": {},
   "outputs": [],
   "source": [
    "#------------------------------------\n",
    "# Perform Model Inference\n",
    "#------------------------------------\n",
    "#\n",
    "# Predict sentiment of input text \n",
    "# using LSTM model\n",
    "#\n",
    "#------------------------------------\n",
    "inText = \"Tyson Foods swung to a quarterly loss and cut its sales forecast for the year amid high costs across its business and deteriorating consumer demand.\"\n",
    "fThisInferenceProbability, sThisSentiment, fThisSentimentConfidence = myLoadedModel.predict_sentiment(inText)\n",
    "print(f\"Text Input => {inText}\")\n",
    "print(f\"Predicted Sentiment => {sThisSentiment}\")"
   ]
  },
  {
   "cell_type": "code",
   "execution_count": 13,
   "id": "5e1963cb-bdda-4b0e-ad46-39c94d495cfd",
   "metadata": {},
   "outputs": [],
   "source": [
    "#------------------------------------\n",
    "# Perform Model Inference\n",
    "#------------------------------------\n",
    "#\n",
    "# Predict sentiment of input text \n",
    "# using LSTM model\n",
    "#\n",
    "#------------------------------------\n",
    "inText = \"Six Flags Entertainment shares rose 19% on Monday.\"\n",
    "fThisInferenceProbability, sThisSentiment, fThisSentimentConfidence = myLoadedModel.predict_sentiment(inText)\n",
    "print(f\"Text Input => {inText}\")\n",
    "print(f\"Predicted Sentiment => {sThisSentiment}\")"
   ]
  },
  {
   "cell_type": "code",
   "execution_count": 12,
   "id": "b8e6f56c-1e02-4211-9c7d-734efd2d60a7",
   "metadata": {},
   "outputs": [],
   "source": [
    "#------------------------------------\n",
    "# Perform Model Inference\n",
    "#------------------------------------\n",
    "#\n",
    "# Predict sentiment of input text \n",
    "# using LSTM model\n",
    "#\n",
    "#------------------------------------\n",
    "inText = \"Six Flags Entertainment shares dropped 19% on Monday.\"\n",
    "fThisInferenceProbability, sThisSentiment, fThisSentimentConfidence = myLoadedModel.predict_sentiment(inText)\n",
    "print(f\"Text Input => {inText}\")\n",
    "print(f\"Predicted Sentiment => {sThisSentiment}\")"
   ]
  }
 ],
 "metadata": {
  "kernelspec": {
   "display_name": "NeuralNetwork",
   "language": "python",
   "name": "neuralnetwork"
  },
  "language_info": {
   "codemirror_mode": {
    "name": "ipython",
    "version": 3
   },
   "file_extension": ".py",
   "mimetype": "text/x-python",
   "name": "python",
   "nbconvert_exporter": "python",
   "pygments_lexer": "ipython3",
   "version": "3.9.16"
  }
 },
 "nbformat": 4,
 "nbformat_minor": 5
}
